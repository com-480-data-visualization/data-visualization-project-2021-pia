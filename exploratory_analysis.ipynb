{
 "cells": [
  {
   "cell_type": "code",
   "execution_count": 2,
   "id": "appropriate-minnesota",
   "metadata": {},
   "outputs": [],
   "source": [
    "import pandas as pd\n",
    "from os import listdir\n",
    "from os.path import isfile, join\n",
    "import matplotlib.pyplot as plt\n",
    "import string\n",
    "from colorutils import Color\n",
    "import getpass\n",
    "\n",
    "%load_ext blackcellmagic"
   ]
  },
  {
   "cell_type": "code",
   "execution_count": 45,
   "id": "stone-tyler",
   "metadata": {},
   "outputs": [],
   "source": [
    "data_folder = \"data/years/\"\n",
    "\n",
    "file_list = [\n",
    "    f\n",
    "    for f in listdir(data_folder)\n",
    "    if isfile(join(data_folder, f)) and f.endswith(\".json\")\n",
    "]\n",
    "\n",
    "dfs = []  # an empty list to store the data frames\n",
    "for file in file_list:\n",
    "    path = data_folder + file\n",
    "    data = pd.read_json(path)  # read data frame from json file\n",
    "    dfs.append(data)  # append the data frame to the list\n",
    "\n",
    "music_data = pd.concat(\n",
    "    dfs, ignore_index=True\n",
    ")  # concatenate all the data frames in the list."
   ]
  },
  {
   "cell_type": "code",
   "execution_count": null,
   "id": "billion-dialogue",
   "metadata": {},
   "outputs": [],
   "source": [
    "print(f\"There are {len(music_data)} songs.\")"
   ]
  },
  {
   "cell_type": "code",
   "execution_count": null,
   "id": "developed-richardson",
   "metadata": {},
   "outputs": [],
   "source": [
    "music_data.groupby(\"year\")[[\"lyrics\"]].count().describe()"
   ]
  },
  {
   "cell_type": "code",
   "execution_count": null,
   "id": "global-running",
   "metadata": {},
   "outputs": [],
   "source": [
    "music_data.groupby(\"year\")[[\"lyrics\"]].count().plot(\n",
    "    kind=\"bar\", figsize=(12, 12), title=\"Songs per year\"\n",
    ")\n",
    "plt.ylabel(\"count\")\n",
    "plt.xlabel(\"year\")\n",
    "plt.show()"
   ]
  },
  {
   "cell_type": "code",
   "execution_count": null,
   "id": "similar-washington",
   "metadata": {},
   "outputs": [],
   "source": [
    "neg_mean = music_data.sentiment.map(lambda dic: dic[\"neg\"]).mean()\n",
    "pos_mean = music_data.sentiment.map(lambda dic: dic[\"pos\"]).mean()\n",
    "neutral_mean = music_data.sentiment.map(lambda dic: dic[\"neu\"]).mean()\n",
    "print(\n",
    "    f\"The means for the negative, positive and neutral songs are respectively: {neg_mean:.3}, {pos_mean:.3} and {neutral_mean:.3}.\"\n",
    ")\n",
    "music_data.sentiment.map(lambda dic: dic[\"compound\"]).plot(kind=\"hist\")\n",
    "plt.title(\"Compound histogram\")\n",
    "plt.xlabel(\"Sentiment\")\n",
    "plt.show()"
   ]
  },
  {
   "cell_type": "code",
   "execution_count": null,
   "id": "suffering-japanese",
   "metadata": {},
   "outputs": [],
   "source": [
    "print(\n",
    "    f\"There are {len(set([element for list_ in list(music_data.tags) for element in list_]))} tags.\"\n",
    ")"
   ]
  },
  {
   "cell_type": "code",
   "execution_count": null,
   "id": "southwest-newspaper",
   "metadata": {},
   "outputs": [],
   "source": [
    "print(f\"There are {len(music_data['artist'].drop_duplicates())} artists.\")"
   ]
  },
  {
   "cell_type": "code",
   "execution_count": null,
   "id": "amber-packaging",
   "metadata": {},
   "outputs": [],
   "source": [
    "music_data.groupby(\"artist\")[[\"lyrics\"]].count().boxplot()\n",
    "plt.title(\"Number of songs per artist\")\n",
    "plt.ylabel(\"count\")\n",
    "# plt.yscale('log')\n",
    "plt.show()"
   ]
  },
  {
   "cell_type": "code",
   "execution_count": 40,
   "id": "governing-quantum",
   "metadata": {},
   "outputs": [],
   "source": [
    "small_set_colors = set(\n",
    "    [\n",
    "        \"white\",\n",
    "        \"black\",\n",
    "        \"yellow\",\n",
    "        \"green\",\n",
    "        \"purple\",\n",
    "        \"brown\",\n",
    "        \"pink\",\n",
    "        \"red\",\n",
    "        \"blue\",\n",
    "        \"maroon\",\n",
    "        \"salmon\",\n",
    "        \"coral\",\n",
    "        \"orange\",\n",
    "        \"gold\",\n",
    "        \"silver\",\n",
    "        \"lime\",\n",
    "        \"turquoise\",\n",
    "        \"cyan\",\n",
    "        \"navy\",\n",
    "        \"indigo\",\n",
    "        \"magenta\",\n",
    "        \"beige\",\n",
    "        \"tan\",\n",
    "        \"gray\",\n",
    "    ]\n",
    ")"
   ]
  },
  {
   "cell_type": "code",
   "execution_count": null,
   "id": "liable-intensity",
   "metadata": {},
   "outputs": [],
   "source": [
    "with open(\"colors.txt\", \"r\") as file_colors:\n",
    "    set_colors = set([line.strip() for line in file_colors])"
   ]
  },
  {
   "cell_type": "code",
   "execution_count": null,
   "id": "absent-blade",
   "metadata": {},
   "outputs": [],
   "source": [
    "print(\n",
    "    f\"The small set of colors contains {len(small_set_colors)} colors and the big one contains {len(set_colors)} colors.\"\n",
    ")"
   ]
  },
  {
   "cell_type": "code",
   "execution_count": null,
   "id": "outside-closer",
   "metadata": {},
   "outputs": [],
   "source": [
    "music_data[\"small_intersection_colors_title\"] = (\n",
    "    music_data[\"title\"]\n",
    "    .str.lower()\n",
    "    .map(\n",
    "        lambda title: set(\n",
    "            title.translate(str.maketrans(\"\", \"\", string.punctuation)).split()\n",
    "        ).intersection(small_set_colors)\n",
    "    )\n",
    ")\n",
    "music_data[\"small_intersection_colors_lyrics\"] = (\n",
    "    music_data[\"lyrics\"]\n",
    "    .str.lower()\n",
    "    .map(\n",
    "        lambda lyrics: set(\n",
    "            lyrics.translate(str.maketrans(\"\", \"\", string.punctuation)).split()\n",
    "        ).intersection(small_set_colors)\n",
    "    )\n",
    ")\n",
    "\n",
    "music_data[\"intersection_colors_title\"] = (\n",
    "    music_data[\"title\"]\n",
    "    .str.lower()\n",
    "    .map(\n",
    "        lambda title: set(\n",
    "            title.translate(str.maketrans(\"\", \"\", string.punctuation)).split()\n",
    "        ).intersection(set_colors)\n",
    "    )\n",
    ")\n",
    "music_data[\"intersection_colors_lyrics\"] = (\n",
    "    music_data[\"lyrics\"]\n",
    "    .str.lower()\n",
    "    .map(\n",
    "        lambda lyrics: set(\n",
    "            lyrics.translate(str.maketrans(\"\", \"\", string.punctuation)).split()\n",
    "        ).intersection(set_colors)\n",
    "    )\n",
    ")"
   ]
  },
  {
   "cell_type": "code",
   "execution_count": null,
   "id": "sound-pathology",
   "metadata": {},
   "outputs": [],
   "source": [
    "small_colored_songs = music_data[\n",
    "    music_data[\"small_intersection_colors_lyrics\"] != set()\n",
    "]\n",
    "colored_songs = music_data[music_data[\"intersection_colors_lyrics\"] != set()]\n",
    "\n",
    "small_colored_titles = music_data[\n",
    "    music_data[\"small_intersection_colors_title\"] != set()\n",
    "]\n",
    "colored_titles = music_data[music_data[\"intersection_colors_title\"] != set()]"
   ]
  },
  {
   "cell_type": "code",
   "execution_count": null,
   "id": "attempted-leonard",
   "metadata": {},
   "outputs": [],
   "source": [
    "print(\n",
    "    f\"There are {len(small_colored_titles)} songs with colors in their lyrics using the small set of colors and\\n there are {len(colored_titles)} songs with colors in their lyrics using the big set of colors.\"\n",
    ")\n",
    "\n",
    "print(\n",
    "    f\"There are {len(small_colored_songs)} songs with colors in their lyrics using the small set of colors and\\n there are {len(colored_songs)} songs with colors in their lyrics using the big set of colors.\"\n",
    ")"
   ]
  },
  {
   "cell_type": "code",
   "execution_count": null,
   "id": "textile-conference",
   "metadata": {},
   "outputs": [],
   "source": [
    "color_counts = (\n",
    "    pd.DataFrame(\n",
    "        [\n",
    "            color\n",
    "            for colors_list in list(\n",
    "                small_colored_songs[\"small_intersection_colors_lyrics\"].map(lambda set_: list(set_))\n",
    "            )\n",
    "            for color in colors_list\n",
    "        ],\n",
    "        columns=[\"color\"],\n",
    "    )\n",
    "    .reset_index()\n",
    "    .groupby(\"color\")\n",
    "    .count()\n",
    "    .rename(columns={'index' : 'count'})\n",
    ")"
   ]
  },
  {
   "cell_type": "code",
   "execution_count": null,
   "id": "disciplinary-wrapping",
   "metadata": {},
   "outputs": [],
   "source": [
    "color_counts.plot(kind='bar')\n",
    "plt.title(\"Basic colors distribution\")\n",
    "plt.ylabel('count')\n",
    "plt.show()"
   ]
  },
  {
   "cell_type": "code",
   "execution_count": null,
   "id": "musical-compound",
   "metadata": {},
   "outputs": [],
   "source": [
    "selected_small_columns = ['lyrics', 'tags', 'pos', 'year', 'title',\n",
    "                          'artist', 'small_intersection_colors_lyrics']\n",
    "\n",
    "selected_big_columns = ['lyrics', 'tags', 'pos', 'year', 'title',\n",
    "                          'artist', 'intersection_colors_lyrics']\n",
    "\n",
    "\n",
    "final_big_df = colored_songs[selected_big_columns].copy()\n",
    "final_big_df['intersection_colors_lyrics'] = final_big_df['intersection_colors_lyrics'].apply(lambda x : list(x))\n",
    "final_big_df = final_big_df.explode('intersection_colors_lyrics')\n",
    "\n",
    "final_small_df = small_colored_songs[selected_small_columns].copy()\n",
    "final_small_df['small_intersection_colors_lyrics'] = final_small_df['small_intersection_colors_lyrics'].apply(lambda x : list(x))\n",
    "final_small_df = final_small_df.explode('small_intersection_colors_lyrics').rename(columns = {'small_intersection_colors_lyrics': 'color'})\n",
    "final_small_df"
   ]
  },
  {
   "cell_type": "code",
   "execution_count": null,
   "id": "ruled-civilian",
   "metadata": {},
   "outputs": [],
   "source": [
    "import random\n",
    "def randomize_rgb(rgb, perturbation = 20):\n",
    "    new_rgb = []\n",
    "    for val in rgb:\n",
    "        new_rgb.append(max(0, min(val + random.randint(-perturbation, perturbation), 255)))\n",
    "    return 'rgb'+str(tuple(new_rgb))"
   ]
  },
  {
   "cell_type": "code",
   "execution_count": null,
   "id": "proof-bunny",
   "metadata": {},
   "outputs": [],
   "source": [
    "Color(web='blue')"
   ]
  },
  {
   "cell_type": "code",
   "execution_count": null,
   "id": "criminal-luxury",
   "metadata": {},
   "outputs": [],
   "source": [
    "Color(hsv=(240, 0.7, 1.0))"
   ]
  },
  {
   "cell_type": "code",
   "execution_count": null,
   "id": "constant-socket",
   "metadata": {},
   "outputs": [],
   "source": [
    "final_small_df['hue_0'] = final_small_df['color'].apply(lambda c : Color(web = c).hsv[0])\n",
    "final_small_df['hue_1'] = final_small_df['color'].apply(lambda c : Color(web = c).hsv[1])\n",
    "final_small_df['hue_2'] = final_small_df['color'].apply(lambda c : Color(web = c).hsv[2])\n",
    "final_small_df['rgb'] = final_small_df['color'].apply(lambda c : Color(web = c).rgb)\n",
    "final_small_df['random_rgb'] = final_small_df['rgb'].apply(lambda c : randomize_rgb(c))\n"
   ]
  },
  {
   "cell_type": "code",
   "execution_count": null,
   "id": "automatic-parent",
   "metadata": {},
   "outputs": [],
   "source": [
    "final_small_df = final_small_df.sort_values(['hue_0', 'hue_1', 'hue_2'])"
   ]
  },
  {
   "cell_type": "code",
   "execution_count": null,
   "id": "natural-springer",
   "metadata": {},
   "outputs": [],
   "source": [
    "final_small_df"
   ]
  },
  {
   "cell_type": "markdown",
   "id": "apparent-fisher",
   "metadata": {},
   "source": [
    "Get the above from your [Spotify Dashboard](https://developer.spotify.com/dashboard/). The steps to do it are presented [here](https://developer.spotify.com/documentation/general/guides/app-settings/)."
   ]
  },
  {
   "cell_type": "code",
   "execution_count": null,
   "id": "successful-mailing",
   "metadata": {},
   "outputs": [],
   "source": [
    "spotify_client_id = getpass.getpass()"
   ]
  },
  {
   "cell_type": "code",
   "execution_count": null,
   "id": "contained-hazard",
   "metadata": {},
   "outputs": [],
   "source": [
    "spotify_client_secret = getpass.getpass()"
   ]
  },
  {
   "cell_type": "code",
   "execution_count": null,
   "id": "mineral-enclosure",
   "metadata": {},
   "outputs": [],
   "source": [
    "import spotipy\n",
    "from spotipy.oauth2 import SpotifyClientCredentials #To access authorised Spotify data\n",
    "\n",
    "client_credentials_manager = SpotifyClientCredentials(client_id=spotify_client_id, client_secret=spotify_client_secret)\n",
    "sp = spotipy.Spotify(client_credentials_manager=client_credentials_manager) #spotify object to access API\n",
    "name = \"Kanye West, Homecoming\" #chosen artist\n",
    "result = sp.search(name) #search query\n",
    "result['tracks']['items'][0]['artists']"
   ]
  },
  {
   "cell_type": "code",
   "execution_count": null,
   "id": "editorial-holiday",
   "metadata": {},
   "outputs": [],
   "source": [
    "#artist:'$artist' title:'$title'\n",
    "artistName = 'Frankie Laine'\n",
    "trackName = 'Tell Me A Story'"
   ]
  },
  {
   "cell_type": "code",
   "execution_count": null,
   "id": "portuguese-grain",
   "metadata": {},
   "outputs": [],
   "source": [
    "def get_spotify_uri(artistName, trackName):\n",
    "    searchResults = sp.search(q=\"artist:\" + artistName + \" track:\" + trackName, type=\"track\", limit = 1)\n",
    "    try:\n",
    "        return searchResults['tracks']['items'][0]['uri'].split(':')[-1]\n",
    "    except Exception as e:\n",
    "        print(f'Error: {e}')\n",
    "        return ''"
   ]
  },
  {
   "cell_type": "code",
   "execution_count": null,
   "id": "skilled-turkish",
   "metadata": {},
   "outputs": [],
   "source": [
    "final_small_df.head()"
   ]
  },
  {
   "cell_type": "code",
   "execution_count": null,
   "id": "certain-detector",
   "metadata": {},
   "outputs": [],
   "source": [
    "final_small_df['spotify_uri'] = final_small_df.apply(lambda row : get_spotify_uri(row.artist, row.title), axis=1)"
   ]
  },
  {
   "cell_type": "code",
   "execution_count": 68,
   "id": "under-shuttle",
   "metadata": {},
   "outputs": [],
   "source": [
    "final_small_df = pd.read_csv('small_colors_songs_withSpotify.csv')"
   ]
  },
  {
   "cell_type": "code",
   "execution_count": 41,
   "id": "continental-provincial",
   "metadata": {},
   "outputs": [],
   "source": [
    "def foo(s):\n",
    "    if isinstance(s, str) and s != '':\n",
    "        return str(s).split(':')[-1]\n",
    "    else : \n",
    "        return ''"
   ]
  },
  {
   "cell_type": "code",
   "execution_count": 42,
   "id": "promotional-actor",
   "metadata": {},
   "outputs": [],
   "source": [
    "final_small_df['spotify_uri'] = final_small_df.apply(lambda row : foo(row.spotify_uri), axis=1)"
   ]
  },
  {
   "cell_type": "code",
   "execution_count": 43,
   "id": "laden-convention",
   "metadata": {},
   "outputs": [
    {
     "data": {
      "text/plain": [
       "0       1THl7yjezM9SW8x2taVS5w\n",
       "1       6xNwKNYZcvgV3XTIwsgNio\n",
       "2       1Qn5jElT7XqjvVeJ8pYM2w\n",
       "3       39zODpVtRvghMyfNjZ3BVK\n",
       "4       3UCmuRdeTriWgOZMEJsfqZ\n",
       "                 ...          \n",
       "1066                          \n",
       "1067    2o5mwv7hvas1jdUg14Nihv\n",
       "1068    7bYZBVrnRfqeaPbhRyEvK3\n",
       "1069    5yIiXdLRE85OBiQmCaUenq\n",
       "1070    1dgWTMoHwTUnQhOQ8SR5fV\n",
       "Name: spotify_uri, Length: 1071, dtype: object"
      ]
     },
     "execution_count": 43,
     "metadata": {},
     "output_type": "execute_result"
    }
   ],
   "source": [
    "final_small_df['spotify_uri']"
   ]
  },
  {
   "cell_type": "code",
   "execution_count": 47,
   "id": "rough-karma",
   "metadata": {},
   "outputs": [
    {
     "data": {
      "text/html": [
       "<div>\n",
       "<style scoped>\n",
       "    .dataframe tbody tr th:only-of-type {\n",
       "        vertical-align: middle;\n",
       "    }\n",
       "\n",
       "    .dataframe tbody tr th {\n",
       "        vertical-align: top;\n",
       "    }\n",
       "\n",
       "    .dataframe thead th {\n",
       "        text-align: right;\n",
       "    }\n",
       "</style>\n",
       "<table border=\"1\" class=\"dataframe\">\n",
       "  <thead>\n",
       "    <tr style=\"text-align: right;\">\n",
       "      <th></th>\n",
       "      <th>lyrics</th>\n",
       "      <th>tags</th>\n",
       "      <th>pos</th>\n",
       "      <th>year</th>\n",
       "      <th>title</th>\n",
       "      <th>artist</th>\n",
       "      <th>color</th>\n",
       "      <th>hue_0</th>\n",
       "      <th>hue_1</th>\n",
       "      <th>hue_2</th>\n",
       "      <th>rgb</th>\n",
       "      <th>random_rgb</th>\n",
       "      <th>spotify_uri</th>\n",
       "    </tr>\n",
       "  </thead>\n",
       "  <tbody>\n",
       "    <tr>\n",
       "      <th>0</th>\n",
       "      <td>Tell me story, tell me story\\nTell me story, r...</td>\n",
       "      <td>['death by heart failure']</td>\n",
       "      <td>23</td>\n",
       "      <td>1953</td>\n",
       "      <td>Tell Me A Story</td>\n",
       "      <td>Frankie Laine</td>\n",
       "      <td>black</td>\n",
       "      <td>0.0</td>\n",
       "      <td>0.0</td>\n",
       "      <td>0.0</td>\n",
       "      <td>(0, 0, 0)</td>\n",
       "      <td>rgb(18, 13, 0)</td>\n",
       "      <td>1THl7yjezM9SW8x2taVS5w</td>\n",
       "    </tr>\n",
       "    <tr>\n",
       "      <th>1</th>\n",
       "      <td>Well, since my baby left me\\nIn the fiery plac...</td>\n",
       "      <td>['american', 'blue-eyed soul', 'blues', 'chris...</td>\n",
       "      <td>1</td>\n",
       "      <td>1956</td>\n",
       "      <td>Heartbreak Hotel</td>\n",
       "      <td>Elvis Presley</td>\n",
       "      <td>black</td>\n",
       "      <td>0.0</td>\n",
       "      <td>0.0</td>\n",
       "      <td>0.0</td>\n",
       "      <td>(0, 0, 0)</td>\n",
       "      <td>rgb(0, 0, 0)</td>\n",
       "      <td>6xNwKNYZcvgV3XTIwsgNio</td>\n",
       "    </tr>\n",
       "    <tr>\n",
       "      <th>2</th>\n",
       "      <td>Bah, bah, bah, but\\nBah, bah, bah, but\\nBah, b...</td>\n",
       "      <td>['all-time greatest hits', 'death by airplane']</td>\n",
       "      <td>25</td>\n",
       "      <td>1957</td>\n",
       "      <td>A Teenager's Romance</td>\n",
       "      <td>Ricky Nelson</td>\n",
       "      <td>black</td>\n",
       "      <td>0.0</td>\n",
       "      <td>0.0</td>\n",
       "      <td>0.0</td>\n",
       "      <td>(0, 0, 0)</td>\n",
       "      <td>rgb(20, 9, 0)</td>\n",
       "      <td>1Qn5jElT7XqjvVeJ8pYM2w</td>\n",
       "    </tr>\n",
       "    <tr>\n",
       "      <th>3</th>\n",
       "      <td>You can shake an apple off an apple tree\\nShak...</td>\n",
       "      <td>['american', 'blue-eyed soul', 'blues', 'chris...</td>\n",
       "      <td>9</td>\n",
       "      <td>1960</td>\n",
       "      <td>Stuck On You</td>\n",
       "      <td>Elvis Presley</td>\n",
       "      <td>black</td>\n",
       "      <td>0.0</td>\n",
       "      <td>0.0</td>\n",
       "      <td>0.0</td>\n",
       "      <td>(0, 0, 0)</td>\n",
       "      <td>rgb(7, 0, 5)</td>\n",
       "      <td>39zODpVtRvghMyfNjZ3BVK</td>\n",
       "    </tr>\n",
       "    <tr>\n",
       "      <th>4</th>\n",
       "      <td>There is a rose in Spanish Harlem\\nA red rose ...</td>\n",
       "      <td>['classic pop and rock', 'funk', 'jazz pop', '...</td>\n",
       "      <td>64</td>\n",
       "      <td>1961</td>\n",
       "      <td>Spanish Harlem</td>\n",
       "      <td>Ben E. King</td>\n",
       "      <td>black</td>\n",
       "      <td>0.0</td>\n",
       "      <td>0.0</td>\n",
       "      <td>0.0</td>\n",
       "      <td>(0, 0, 0)</td>\n",
       "      <td>rgb(0, 0, 0)</td>\n",
       "      <td>3UCmuRdeTriWgOZMEJsfqZ</td>\n",
       "    </tr>\n",
       "  </tbody>\n",
       "</table>\n",
       "</div>"
      ],
      "text/plain": [
       "                                              lyrics  \\\n",
       "0  Tell me story, tell me story\\nTell me story, r...   \n",
       "1  Well, since my baby left me\\nIn the fiery plac...   \n",
       "2  Bah, bah, bah, but\\nBah, bah, bah, but\\nBah, b...   \n",
       "3  You can shake an apple off an apple tree\\nShak...   \n",
       "4  There is a rose in Spanish Harlem\\nA red rose ...   \n",
       "\n",
       "                                                tags  pos  year  \\\n",
       "0                         ['death by heart failure']   23  1953   \n",
       "1  ['american', 'blue-eyed soul', 'blues', 'chris...    1  1956   \n",
       "2    ['all-time greatest hits', 'death by airplane']   25  1957   \n",
       "3  ['american', 'blue-eyed soul', 'blues', 'chris...    9  1960   \n",
       "4  ['classic pop and rock', 'funk', 'jazz pop', '...   64  1961   \n",
       "\n",
       "                  title         artist  color  hue_0  hue_1  hue_2        rgb  \\\n",
       "0       Tell Me A Story  Frankie Laine  black    0.0    0.0    0.0  (0, 0, 0)   \n",
       "1      Heartbreak Hotel  Elvis Presley  black    0.0    0.0    0.0  (0, 0, 0)   \n",
       "2  A Teenager's Romance   Ricky Nelson  black    0.0    0.0    0.0  (0, 0, 0)   \n",
       "3          Stuck On You  Elvis Presley  black    0.0    0.0    0.0  (0, 0, 0)   \n",
       "4        Spanish Harlem    Ben E. King  black    0.0    0.0    0.0  (0, 0, 0)   \n",
       "\n",
       "       random_rgb             spotify_uri  \n",
       "0  rgb(18, 13, 0)  1THl7yjezM9SW8x2taVS5w  \n",
       "1    rgb(0, 0, 0)  6xNwKNYZcvgV3XTIwsgNio  \n",
       "2   rgb(20, 9, 0)  1Qn5jElT7XqjvVeJ8pYM2w  \n",
       "3    rgb(7, 0, 5)  39zODpVtRvghMyfNjZ3BVK  \n",
       "4    rgb(0, 0, 0)  3UCmuRdeTriWgOZMEJsfqZ  "
      ]
     },
     "execution_count": 47,
     "metadata": {},
     "output_type": "execute_result"
    }
   ],
   "source": [
    "final_small_df.head()"
   ]
  },
  {
   "cell_type": "code",
   "execution_count": 71,
   "id": "accepting-difficulty",
   "metadata": {},
   "outputs": [],
   "source": [
    "def surround_color_words(s, color):\n",
    "    punctuation_or_space = [el for el in string.punctuation] + [' ', '\\n']\n",
    "    color_length = len(color)\n",
    "    splitted = s.lower().split(color.lower())\n",
    "    final = ''\n",
    "    chunk_to_add_before = f'<span class=\"{color}_word colored_word\">'\n",
    "    chunk_to_add_after = '</span>'\n",
    "    \n",
    "    char_to_begin = 0\n",
    "    accumulated_usused_chunks_len = 0\n",
    "    for i, chunk in enumerate(splitted[:-1]):\n",
    "        if len(splitted[i+1])>0 and splitted[i+1][0] in punctuation_or_space:\n",
    "            begin_char = char_to_begin\n",
    "            first_char_color = begin_char + accumulated_usused_chunks_len + len(chunk)\n",
    "            first_char_after_color = first_char_color + color_length\n",
    "\n",
    "            final += s[begin_char:first_char_color]\n",
    "            final += chunk_to_add_before\n",
    "            final += s[first_char_color:first_char_after_color]\n",
    "            final += chunk_to_add_after\n",
    "\n",
    "            char_to_begin = first_char_after_color\n",
    "            accumulated_usused_characters = 0\n",
    "        else:\n",
    "            accumulated_usused_chunks_len += len(chunk) + color_length\n",
    "    \n",
    "    final += s[char_to_begin:]\n",
    "    return final"
   ]
  },
  {
   "cell_type": "code",
   "execution_count": 72,
   "id": "assisted-carbon",
   "metadata": {},
   "outputs": [],
   "source": [
    "def preprocess_lyrics(lyrics, color):\n",
    "    return '<p>'+('<br>'.join(surround_color_words(lyrics, color).split('\\n'))) + '</p>'"
   ]
  },
  {
   "cell_type": "code",
   "execution_count": 73,
   "id": "reported-airfare",
   "metadata": {},
   "outputs": [],
   "source": [
    "final_small_df['preprocessed_lyrics'] = final_small_df.apply(lambda row : preprocess_lyrics(row.lyrics, row.color), axis = 1)"
   ]
  },
  {
   "cell_type": "code",
   "execution_count": null,
   "id": "infinite-editor",
   "metadata": {},
   "outputs": [],
   "source": []
  },
  {
   "cell_type": "code",
   "execution_count": null,
   "id": "green-graphics",
   "metadata": {},
   "outputs": [],
   "source": []
  },
  {
   "cell_type": "code",
   "execution_count": 74,
   "id": "black-attendance",
   "metadata": {},
   "outputs": [],
   "source": [
    "final_small_df.to_csv('small_colors_songs_withSpotify.csv', index=False)"
   ]
  },
  {
   "cell_type": "code",
   "execution_count": null,
   "id": "contained-appraisal",
   "metadata": {},
   "outputs": [],
   "source": []
  }
 ],
 "metadata": {
  "kernelspec": {
   "display_name": "Python [conda env:ada] *",
   "language": "python",
   "name": "conda-env-ada-py"
  },
  "language_info": {
   "codemirror_mode": {
    "name": "ipython",
    "version": 3
   },
   "file_extension": ".py",
   "mimetype": "text/x-python",
   "name": "python",
   "nbconvert_exporter": "python",
   "pygments_lexer": "ipython3",
   "version": "3.8.5"
  }
 },
 "nbformat": 4,
 "nbformat_minor": 5
}
