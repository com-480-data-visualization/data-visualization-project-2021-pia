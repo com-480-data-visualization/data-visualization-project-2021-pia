{
 "cells": [
  {
   "cell_type": "code",
   "execution_count": 1,
   "id": "pleased-white",
   "metadata": {},
   "outputs": [],
   "source": [
    "import pandas as pd\n",
    "from os import listdir\n",
    "from os.path import isfile, join\n",
    "import matplotlib.pyplot as plt\n",
    "import string\n",
    "\n",
    "%load_ext blackcellmagic"
   ]
  },
  {
   "cell_type": "code",
   "execution_count": 2,
   "id": "induced-estate",
   "metadata": {},
   "outputs": [],
   "source": [
    "data_folder = \"data/years/\"\n",
    "\n",
    "file_list = [\n",
    "    f\n",
    "    for f in listdir(data_folder)\n",
    "    if isfile(join(data_folder, f)) and f.endswith(\".json\")\n",
    "]\n",
    "\n",
    "dfs = []  # an empty list to store the data frames\n",
    "for file in file_list:\n",
    "    path = data_folder + file\n",
    "    data = pd.read_json(path)  # read data frame from json file\n",
    "    dfs.append(data)  # append the data frame to the list\n",
    "\n",
    "music_data = pd.concat(\n",
    "    dfs, ignore_index=True\n",
    ")  # concatenate all the data frames in the list."
   ]
  },
  {
   "cell_type": "code",
   "execution_count": 3,
   "id": "dressed-beach",
   "metadata": {},
   "outputs": [
    {
     "data": {
      "text/html": [
       "<div>\n",
       "<style scoped>\n",
       "    .dataframe tbody tr th:only-of-type {\n",
       "        vertical-align: middle;\n",
       "    }\n",
       "\n",
       "    .dataframe tbody tr th {\n",
       "        vertical-align: top;\n",
       "    }\n",
       "\n",
       "    .dataframe thead th {\n",
       "        text-align: right;\n",
       "    }\n",
       "</style>\n",
       "<table border=\"1\" class=\"dataframe\">\n",
       "  <thead>\n",
       "    <tr style=\"text-align: right;\">\n",
       "      <th></th>\n",
       "      <th>lyrics</th>\n",
       "      <th>tags</th>\n",
       "      <th>num_syllables</th>\n",
       "      <th>pos</th>\n",
       "      <th>year</th>\n",
       "      <th>fog_index</th>\n",
       "      <th>flesch_index</th>\n",
       "      <th>num_words</th>\n",
       "      <th>num_lines</th>\n",
       "      <th>sentiment</th>\n",
       "      <th>title</th>\n",
       "      <th>f_k_grade</th>\n",
       "      <th>artist</th>\n",
       "      <th>difficult_words</th>\n",
       "      <th>num_dupes</th>\n",
       "    </tr>\n",
       "  </thead>\n",
       "  <tbody>\n",
       "    <tr>\n",
       "      <th>0</th>\n",
       "      <td>Mona Lisa, Mona Lisa, men have named you\\nYou'...</td>\n",
       "      <td>[american, death by lung cancer, easy listenin...</td>\n",
       "      <td>189.0</td>\n",
       "      <td>2</td>\n",
       "      <td>1950</td>\n",
       "      <td>5.2</td>\n",
       "      <td>88.74</td>\n",
       "      <td>145</td>\n",
       "      <td>17</td>\n",
       "      <td>{'neg': 0.155, 'neu': 0.646, 'pos': 0.199, 'co...</td>\n",
       "      <td>Mona Lisa</td>\n",
       "      <td>2.9</td>\n",
       "      <td>Nat King Cole</td>\n",
       "      <td>13</td>\n",
       "      <td>10</td>\n",
       "    </tr>\n",
       "    <tr>\n",
       "      <th>1</th>\n",
       "      <td>I wanna be Loved\\nBy Andrews Sisters\\n\\nOooo-o...</td>\n",
       "      <td>[andrews sisters]</td>\n",
       "      <td>270.9</td>\n",
       "      <td>17</td>\n",
       "      <td>1950</td>\n",
       "      <td>4.4</td>\n",
       "      <td>82.31</td>\n",
       "      <td>189</td>\n",
       "      <td>31</td>\n",
       "      <td>{'neg': 0.036000000000000004, 'neu': 0.74, 'po...</td>\n",
       "      <td>I Wanna Be Loved</td>\n",
       "      <td>3.3</td>\n",
       "      <td>Andrews Sisters</td>\n",
       "      <td>40</td>\n",
       "      <td>32</td>\n",
       "    </tr>\n",
       "  </tbody>\n",
       "</table>\n",
       "</div>"
      ],
      "text/plain": [
       "                                              lyrics  \\\n",
       "0  Mona Lisa, Mona Lisa, men have named you\\nYou'...   \n",
       "1  I wanna be Loved\\nBy Andrews Sisters\\n\\nOooo-o...   \n",
       "\n",
       "                                                tags  num_syllables  pos  \\\n",
       "0  [american, death by lung cancer, easy listenin...          189.0    2   \n",
       "1                                  [andrews sisters]          270.9   17   \n",
       "\n",
       "   year  fog_index  flesch_index  num_words  num_lines  \\\n",
       "0  1950        5.2         88.74        145         17   \n",
       "1  1950        4.4         82.31        189         31   \n",
       "\n",
       "                                           sentiment             title  \\\n",
       "0  {'neg': 0.155, 'neu': 0.646, 'pos': 0.199, 'co...         Mona Lisa   \n",
       "1  {'neg': 0.036000000000000004, 'neu': 0.74, 'po...  I Wanna Be Loved   \n",
       "\n",
       "   f_k_grade           artist  difficult_words  num_dupes  \n",
       "0        2.9    Nat King Cole               13         10  \n",
       "1        3.3  Andrews Sisters               40         32  "
      ]
     },
     "execution_count": 3,
     "metadata": {},
     "output_type": "execute_result"
    }
   ],
   "source": [
    "music_data.head(2)"
   ]
  },
  {
   "cell_type": "code",
   "execution_count": 4,
   "id": "exterior-graduation",
   "metadata": {},
   "outputs": [
    {
     "name": "stdout",
     "output_type": "stream",
     "text": [
      "There are 4028 songs.\n"
     ]
    }
   ],
   "source": [
    "print(f\"There are {len(music_data)} songs.\")"
   ]
  },
  {
   "cell_type": "code",
   "execution_count": 5,
   "id": "baking-juvenile",
   "metadata": {},
   "outputs": [
    {
     "data": {
      "text/html": [
       "<div>\n",
       "<style scoped>\n",
       "    .dataframe tbody tr th:only-of-type {\n",
       "        vertical-align: middle;\n",
       "    }\n",
       "\n",
       "    .dataframe tbody tr th {\n",
       "        vertical-align: top;\n",
       "    }\n",
       "\n",
       "    .dataframe thead th {\n",
       "        text-align: right;\n",
       "    }\n",
       "</style>\n",
       "<table border=\"1\" class=\"dataframe\">\n",
       "  <thead>\n",
       "    <tr style=\"text-align: right;\">\n",
       "      <th></th>\n",
       "      <th>lyrics</th>\n",
       "    </tr>\n",
       "  </thead>\n",
       "  <tbody>\n",
       "    <tr>\n",
       "      <th>count</th>\n",
       "      <td>66.000000</td>\n",
       "    </tr>\n",
       "    <tr>\n",
       "      <th>mean</th>\n",
       "      <td>61.030303</td>\n",
       "    </tr>\n",
       "    <tr>\n",
       "      <th>std</th>\n",
       "      <td>20.331082</td>\n",
       "    </tr>\n",
       "    <tr>\n",
       "      <th>min</th>\n",
       "      <td>6.000000</td>\n",
       "    </tr>\n",
       "    <tr>\n",
       "      <th>25%</th>\n",
       "      <td>54.250000</td>\n",
       "    </tr>\n",
       "    <tr>\n",
       "      <th>50%</th>\n",
       "      <td>68.000000</td>\n",
       "    </tr>\n",
       "    <tr>\n",
       "      <th>75%</th>\n",
       "      <td>76.000000</td>\n",
       "    </tr>\n",
       "    <tr>\n",
       "      <th>max</th>\n",
       "      <td>82.000000</td>\n",
       "    </tr>\n",
       "  </tbody>\n",
       "</table>\n",
       "</div>"
      ],
      "text/plain": [
       "          lyrics\n",
       "count  66.000000\n",
       "mean   61.030303\n",
       "std    20.331082\n",
       "min     6.000000\n",
       "25%    54.250000\n",
       "50%    68.000000\n",
       "75%    76.000000\n",
       "max    82.000000"
      ]
     },
     "execution_count": 5,
     "metadata": {},
     "output_type": "execute_result"
    }
   ],
   "source": [
    "music_data.groupby(\"year\")[[\"lyrics\"]].count().describe()"
   ]
  },
  {
   "cell_type": "code",
   "execution_count": 6,
   "id": "independent-hunger",
   "metadata": {},
   "outputs": [
    {
     "data": {
      "image/png": "[encoded data removed]",
      "text/plain": [
       "<Figure size 864x864 with 1 Axes>"
      ]
     },
     "metadata": {
      "needs_background": "light"
     },
     "output_type": "display_data"
    }
   ],
   "source": [
    "music_data.groupby(\"year\")[[\"lyrics\"]].count().plot(\n",
    "    kind=\"bar\", figsize=(12, 12), title=\"Songs per year\"\n",
    ")\n",
    "plt.ylabel(\"count\")\n",
    "plt.xlabel(\"year\")\n",
    "plt.show()"
   ]
  },
  {
   "cell_type": "code",
   "execution_count": 7,
   "id": "romance-pilot",
   "metadata": {},
   "outputs": [
    {
     "name": "stdout",
     "output_type": "stream",
     "text": [
      "The means for the negative, positive and neutral songs are respectively: 0.0743, 0.156 and 0.769.\n"
     ]
    },
    {
     "data": {
      "image/png": "[encoded data removed]",
      "text/plain": [
       "<Figure size 432x288 with 1 Axes>"
      ]
     },
     "metadata": {
      "needs_background": "light"
     },
     "output_type": "display_data"
    }
   ],
   "source": [
    "neg_mean = music_data.sentiment.map(lambda dic: dic[\"neg\"]).mean()\n",
    "pos_mean = music_data.sentiment.map(lambda dic: dic[\"pos\"]).mean()\n",
    "neutral_mean = music_data.sentiment.map(lambda dic: dic[\"neu\"]).mean()\n",
    "print(\n",
    "    f\"The means for the negative, positive and neutral songs are respectively: {neg_mean:.3}, {pos_mean:.3} and {neutral_mean:.3}.\"\n",
    ")\n",
    "music_data.sentiment.map(lambda dic: dic[\"compound\"]).plot(kind=\"hist\")\n",
    "plt.title(\"Compound histogram\")\n",
    "plt.xlabel(\"Sentiment\")\n",
    "plt.show()"
   ]
  },
  {
   "cell_type": "code",
   "execution_count": 8,
   "id": "imperial-funeral",
   "metadata": {},
   "outputs": [
    {
     "name": "stdout",
     "output_type": "stream",
     "text": [
      "There are 966 tags.\n"
     ]
    }
   ],
   "source": [
    "print(\n",
    "    f\"There are {len(set([element for list_ in list(music_data.tags) for element in list_]))} tags.\"\n",
    ")"
   ]
  },
  {
   "cell_type": "code",
   "execution_count": 9,
   "id": "racial-masters",
   "metadata": {},
   "outputs": [
    {
     "name": "stdout",
     "output_type": "stream",
     "text": [
      "There are 1308 artists.\n"
     ]
    }
   ],
   "source": [
    "print(f\"There are {len(music_data['artist'].drop_duplicates())} artists.\")"
   ]
  },
  {
   "cell_type": "code",
   "execution_count": 10,
   "id": "rubber-price",
   "metadata": {},
   "outputs": [
    {
     "data": {
      "image/png": "[encoded data removed]",
      "text/plain": [
       "<Figure size 432x288 with 1 Axes>"
      ]
     },
     "metadata": {
      "needs_background": "light"
     },
     "output_type": "display_data"
    }
   ],
   "source": [
    "music_data.groupby(\"artist\")[[\"lyrics\"]].count().boxplot()\n",
    "plt.title(\"Number of songs per artist\")\n",
    "plt.ylabel(\"count\")\n",
    "# plt.yscale('log')\n",
    "plt.show()"
   ]
  },
  {
   "cell_type": "code",
   "execution_count": 11,
   "id": "competitive-development",
   "metadata": {},
   "outputs": [],
   "source": [
    "small_set_colors = set(\n",
    "    [\n",
    "        \"white\",\n",
    "        \"black\",\n",
    "        \"yellow\",\n",
    "        \"green\",\n",
    "        \"purple\",\n",
    "        \"brown\",\n",
    "        \"pink\",\n",
    "        \"red\",\n",
    "        \"blue\",\n",
    "        \"maroon\",\n",
    "        \"salmon\",\n",
    "        \"coral\",\n",
    "        \"orange\",\n",
    "        \"gold\",\n",
    "        \"silver\",\n",
    "        \"lime\",\n",
    "        \"turquoise\",\n",
    "        \"cyan\",\n",
    "        \"navy\",\n",
    "        \"indigo\",\n",
    "        \"magenta\",\n",
    "        \"beige\",\n",
    "        \"tan\",\n",
    "        \"grey\",\n",
    "    ]\n",
    ")"
   ]
  },
  {
   "cell_type": "code",
   "execution_count": 12,
   "id": "contained-tackle",
   "metadata": {},
   "outputs": [],
   "source": [
    "with open(\"colors.txt\", \"r\") as file_colors:\n",
    "    set_colors = set([line.strip() for line in file_colors])"
   ]
  },
  {
   "cell_type": "code",
   "execution_count": 13,
   "id": "exterior-builder",
   "metadata": {},
   "outputs": [
    {
     "name": "stdout",
     "output_type": "stream",
     "text": [
      "The small set of colors contains 24 colors and the big one contains 229 colors.\n"
     ]
    }
   ],
   "source": [
    "print(\n",
    "    f\"The small set of colors contains {len(small_set_colors)} colors and the big one contains {len(set_colors)} colors.\"\n",
    ")"
   ]
  },
  {
   "cell_type": "code",
   "execution_count": 14,
   "id": "occupational-joseph",
   "metadata": {},
   "outputs": [],
   "source": [
    "music_data[\"small_intersection_colors_title\"] = (\n",
    "    music_data[\"title\"]\n",
    "    .str.lower()\n",
    "    .map(\n",
    "        lambda title: set(\n",
    "            title.translate(str.maketrans(\"\", \"\", string.punctuation)).split()\n",
    "        ).intersection(small_set_colors)\n",
    "    )\n",
    ")\n",
    "music_data[\"small_intersection_colors_lyrics\"] = (\n",
    "    music_data[\"lyrics\"]\n",
    "    .str.lower()\n",
    "    .map(\n",
    "        lambda lyrics: set(\n",
    "            lyrics.translate(str.maketrans(\"\", \"\", string.punctuation)).split()\n",
    "        ).intersection(small_set_colors)\n",
    "    )\n",
    ")\n",
    "\n",
    "music_data[\"intersection_colors_title\"] = (\n",
    "    music_data[\"title\"]\n",
    "    .str.lower()\n",
    "    .map(\n",
    "        lambda title: set(\n",
    "            title.translate(str.maketrans(\"\", \"\", string.punctuation)).split()\n",
    "        ).intersection(set_colors)\n",
    "    )\n",
    ")\n",
    "music_data[\"intersection_colors_lyrics\"] = (\n",
    "    music_data[\"lyrics\"]\n",
    "    .str.lower()\n",
    "    .map(\n",
    "        lambda lyrics: set(\n",
    "            lyrics.translate(str.maketrans(\"\", \"\", string.punctuation)).split()\n",
    "        ).intersection(set_colors)\n",
    "    )\n",
    ")"
   ]
  },
  {
   "cell_type": "code",
   "execution_count": 15,
   "id": "delayed-feedback",
   "metadata": {},
   "outputs": [],
   "source": [
    "small_colored_songs = music_data[\n",
    "    music_data[\"small_intersection_colors_lyrics\"] != set()\n",
    "]\n",
    "colored_songs = music_data[music_data[\"intersection_colors_lyrics\"] != set()]\n",
    "\n",
    "small_colored_titles = music_data[\n",
    "    music_data[\"small_intersection_colors_title\"] != set()\n",
    "]\n",
    "colored_titles = music_data[music_data[\"intersection_colors_title\"] != set()]"
   ]
  },
  {
   "cell_type": "code",
   "execution_count": 16,
   "id": "recovered-thanks",
   "metadata": {},
   "outputs": [
    {
     "name": "stdout",
     "output_type": "stream",
     "text": [
      "There are 59 songs with colors in their lyrics using the small set of colors and\n",
      " there are 144 songs with colors in their lyrics using the big set of colors.\n",
      "There are 780 songs with colors in their lyrics using the small set of colors and\n",
      " there are 1741 songs with colors in their lyrics using the big set of colors.\n"
     ]
    }
   ],
   "source": [
    "print(\n",
    "    f\"There are {len(small_colored_titles)} songs with colors in their lyrics using the small set of colors and\\n there are {len(colored_titles)} songs with colors in their lyrics using the big set of colors.\"\n",
    ")\n",
    "\n",
    "print(\n",
    "    f\"There are {len(small_colored_songs)} songs with colors in their lyrics using the small set of colors and\\n there are {len(colored_songs)} songs with colors in their lyrics using the big set of colors.\"\n",
    ")"
   ]
  },
  {
   "cell_type": "code",
   "execution_count": 17,
   "id": "encouraging-lover",
   "metadata": {},
   "outputs": [],
   "source": [
    "color_counts = (\n",
    "    pd.DataFrame(\n",
    "        [\n",
    "            color\n",
    "            for colors_list in list(\n",
    "                small_colored_songs[\"small_intersection_colors_lyrics\"].map(lambda set_: list(set_))\n",
    "            )\n",
    "            for color in colors_list\n",
    "        ],\n",
    "        columns=[\"color\"],\n",
    "    )\n",
    "    .reset_index()\n",
    "    .groupby(\"color\")\n",
    "    .count()\n",
    "    .rename(columns={'index' : 'count'})\n",
    ")"
   ]
  },
  {
   "cell_type": "code",
   "execution_count": 18,
   "id": "liberal-casting",
   "metadata": {},
   "outputs": [
    {
     "data": {
      "image/png": "[encoded data removed]",
      "text/plain": [
       "<Figure size 432x288 with 1 Axes>"
      ]
     },
     "metadata": {
      "needs_background": "light"
     },
     "output_type": "display_data"
    }
   ],
   "source": [
    "color_counts.plot(kind='bar')\n",
    "plt.title(\"Basic colors distribution\")\n",
    "plt.ylabel('count')\n",
    "plt.show()"
   ]
  },
  {
   "cell_type": "code",
   "execution_count": null,
   "id": "colored-bobby",
   "metadata": {},
   "outputs": [],
   "source": []
  }
 ],
 "metadata": {
  "kernelspec": {
   "display_name": "Python [conda env:ada] *",
   "language": "python",
   "name": "conda-env-ada-py"
  },
  "language_info": {
   "codemirror_mode": {
    "name": "ipython",
    "version": 3
   },
   "file_extension": ".py",
   "mimetype": "text/x-python",
   "name": "python",
   "nbconvert_exporter": "python",
   "pygments_lexer": "ipython3",
   "version": "3.8.5"
  }
 },
 "nbformat": 4,
 "nbformat_minor": 5
}
