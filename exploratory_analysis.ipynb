{
 "cells": [
  {
   "cell_type": "code",
   "execution_count": 58,
   "id": "weird-checkout",
   "metadata": {},
   "outputs": [],
   "source": [
    "import pandas as pd\n",
    "from os import listdir\n",
    "from os.path import isfile, join\n",
    "import matplotlib.pyplot as plt\n",
    "import string\n"
   ]
  },
  {
   "cell_type": "code",
   "execution_count": 2,
   "id": "similar-sellers",
   "metadata": {},
   "outputs": [],
   "source": [
    "data_folder = 'billboard/data/years/'\n",
    "example_file = '1999.json'\n",
    "\n",
    "\n",
    "file_list = [f for f in listdir(data_folder) if isfile(join(data_folder, f)) and f.endswith('.json')]\n",
    "\n",
    "dfs = [] # an empty list to store the data frames\n",
    "for file in file_list:\n",
    "    path = data_folder + file\n",
    "    data = pd.read_json(path) # read data frame from json file\n",
    "    dfs.append(data) # append the data frame to the list\n",
    "\n",
    "music_data = pd.concat(dfs, ignore_index=True) # concatenate all the data frames in the list."
   ]
  },
  {
   "cell_type": "code",
   "execution_count": 89,
   "id": "natural-accent",
   "metadata": {},
   "outputs": [
    {
     "data": {
      "text/plain": [
       "966"
      ]
     },
     "execution_count": 89,
     "metadata": {},
     "output_type": "execute_result"
    }
   ],
   "source": [
    "len(set([element for list_ in list(music_data.tags) for element in list_]))"
   ]
  },
  {
   "cell_type": "code",
   "execution_count": 3,
   "id": "incredible-simpson",
   "metadata": {},
   "outputs": [
    {
     "data": {
      "text/html": [
       "<div>\n",
       "<style scoped>\n",
       "    .dataframe tbody tr th:only-of-type {\n",
       "        vertical-align: middle;\n",
       "    }\n",
       "\n",
       "    .dataframe tbody tr th {\n",
       "        vertical-align: top;\n",
       "    }\n",
       "\n",
       "    .dataframe thead th {\n",
       "        text-align: right;\n",
       "    }\n",
       "</style>\n",
       "<table border=\"1\" class=\"dataframe\">\n",
       "  <thead>\n",
       "    <tr style=\"text-align: right;\">\n",
       "      <th></th>\n",
       "      <th>lyrics</th>\n",
       "      <th>tags</th>\n",
       "      <th>num_syllables</th>\n",
       "      <th>pos</th>\n",
       "      <th>year</th>\n",
       "      <th>fog_index</th>\n",
       "      <th>flesch_index</th>\n",
       "      <th>num_words</th>\n",
       "      <th>num_lines</th>\n",
       "      <th>sentiment</th>\n",
       "      <th>title</th>\n",
       "      <th>f_k_grade</th>\n",
       "      <th>artist</th>\n",
       "      <th>difficult_words</th>\n",
       "      <th>num_dupes</th>\n",
       "    </tr>\n",
       "  </thead>\n",
       "  <tbody>\n",
       "    <tr>\n",
       "      <th>0</th>\n",
       "      <td>Mona Lisa, Mona Lisa, men have named you\\nYou'...</td>\n",
       "      <td>[american, death by lung cancer, easy listenin...</td>\n",
       "      <td>189.0</td>\n",
       "      <td>2</td>\n",
       "      <td>1950</td>\n",
       "      <td>5.2</td>\n",
       "      <td>88.74</td>\n",
       "      <td>145</td>\n",
       "      <td>17</td>\n",
       "      <td>{'neg': 0.155, 'neu': 0.646, 'pos': 0.199, 'co...</td>\n",
       "      <td>Mona Lisa</td>\n",
       "      <td>2.9</td>\n",
       "      <td>Nat King Cole</td>\n",
       "      <td>13</td>\n",
       "      <td>10</td>\n",
       "    </tr>\n",
       "    <tr>\n",
       "      <th>1</th>\n",
       "      <td>I wanna be Loved\\nBy Andrews Sisters\\n\\nOooo-o...</td>\n",
       "      <td>[andrews sisters]</td>\n",
       "      <td>270.9</td>\n",
       "      <td>17</td>\n",
       "      <td>1950</td>\n",
       "      <td>4.4</td>\n",
       "      <td>82.31</td>\n",
       "      <td>189</td>\n",
       "      <td>31</td>\n",
       "      <td>{'neg': 0.036000000000000004, 'neu': 0.74, 'po...</td>\n",
       "      <td>I Wanna Be Loved</td>\n",
       "      <td>3.3</td>\n",
       "      <td>Andrews Sisters</td>\n",
       "      <td>40</td>\n",
       "      <td>32</td>\n",
       "    </tr>\n",
       "    <tr>\n",
       "      <th>2</th>\n",
       "      <td>I was dancing with my darling to the Tennessee...</td>\n",
       "      <td>[country, pop]</td>\n",
       "      <td>174.6</td>\n",
       "      <td>18</td>\n",
       "      <td>1950</td>\n",
       "      <td>5.2</td>\n",
       "      <td>88.74</td>\n",
       "      <td>138</td>\n",
       "      <td>16</td>\n",
       "      <td>{'neg': 0.053, 'neu': 0.596, 'pos': 0.35100000...</td>\n",
       "      <td>Tennessee Waltz</td>\n",
       "      <td>2.9</td>\n",
       "      <td>Patti Page</td>\n",
       "      <td>5</td>\n",
       "      <td>10</td>\n",
       "    </tr>\n",
       "    <tr>\n",
       "      <th>3</th>\n",
       "      <td>Each time I hold someone new\\nMy arms grow col...</td>\n",
       "      <td>[death by liver failure, spiritual]</td>\n",
       "      <td>135.9</td>\n",
       "      <td>20</td>\n",
       "      <td>1950</td>\n",
       "      <td>4.4</td>\n",
       "      <td>99.23</td>\n",
       "      <td>117</td>\n",
       "      <td>18</td>\n",
       "      <td>{'neg': 0.167, 'neu': 0.602, 'pos': 0.231, 'co...</td>\n",
       "      <td>I'll Never Be Free</td>\n",
       "      <td>0.9</td>\n",
       "      <td>Tennessee Ernie Ford</td>\n",
       "      <td>10</td>\n",
       "      <td>3</td>\n",
       "    </tr>\n",
       "    <tr>\n",
       "      <th>4</th>\n",
       "      <td>Unfortunately, we are not licensed to display ...</td>\n",
       "      <td>[country, pop]</td>\n",
       "      <td>46.8</td>\n",
       "      <td>21</td>\n",
       "      <td>1950</td>\n",
       "      <td>6.0</td>\n",
       "      <td>69.79</td>\n",
       "      <td>32</td>\n",
       "      <td>3</td>\n",
       "      <td>{'neg': 0.07, 'neu': 0.85, 'pos': 0.079, 'comp...</td>\n",
       "      <td>All My Love</td>\n",
       "      <td>6.0</td>\n",
       "      <td>Patti Page</td>\n",
       "      <td>9</td>\n",
       "      <td>0</td>\n",
       "    </tr>\n",
       "  </tbody>\n",
       "</table>\n",
       "</div>"
      ],
      "text/plain": [
       "                                              lyrics  \\\n",
       "0  Mona Lisa, Mona Lisa, men have named you\\nYou'...   \n",
       "1  I wanna be Loved\\nBy Andrews Sisters\\n\\nOooo-o...   \n",
       "2  I was dancing with my darling to the Tennessee...   \n",
       "3  Each time I hold someone new\\nMy arms grow col...   \n",
       "4  Unfortunately, we are not licensed to display ...   \n",
       "\n",
       "                                                tags  num_syllables  pos  \\\n",
       "0  [american, death by lung cancer, easy listenin...          189.0    2   \n",
       "1                                  [andrews sisters]          270.9   17   \n",
       "2                                     [country, pop]          174.6   18   \n",
       "3                [death by liver failure, spiritual]          135.9   20   \n",
       "4                                     [country, pop]           46.8   21   \n",
       "\n",
       "   year  fog_index  flesch_index  num_words  num_lines  \\\n",
       "0  1950        5.2         88.74        145         17   \n",
       "1  1950        4.4         82.31        189         31   \n",
       "2  1950        5.2         88.74        138         16   \n",
       "3  1950        4.4         99.23        117         18   \n",
       "4  1950        6.0         69.79         32          3   \n",
       "\n",
       "                                           sentiment               title  \\\n",
       "0  {'neg': 0.155, 'neu': 0.646, 'pos': 0.199, 'co...           Mona Lisa   \n",
       "1  {'neg': 0.036000000000000004, 'neu': 0.74, 'po...    I Wanna Be Loved   \n",
       "2  {'neg': 0.053, 'neu': 0.596, 'pos': 0.35100000...     Tennessee Waltz   \n",
       "3  {'neg': 0.167, 'neu': 0.602, 'pos': 0.231, 'co...  I'll Never Be Free   \n",
       "4  {'neg': 0.07, 'neu': 0.85, 'pos': 0.079, 'comp...         All My Love   \n",
       "\n",
       "   f_k_grade                artist  difficult_words  num_dupes  \n",
       "0        2.9         Nat King Cole               13         10  \n",
       "1        3.3       Andrews Sisters               40         32  \n",
       "2        2.9            Patti Page                5         10  \n",
       "3        0.9  Tennessee Ernie Ford               10          3  \n",
       "4        6.0            Patti Page                9          0  "
      ]
     },
     "execution_count": 3,
     "metadata": {},
     "output_type": "execute_result"
    }
   ],
   "source": [
    "music_data.head()"
   ]
  },
  {
   "cell_type": "code",
   "execution_count": 99,
   "id": "black-agency",
   "metadata": {},
   "outputs": [
    {
     "name": "stdout",
     "output_type": "stream",
     "text": [
      "0.07428624627606753\n",
      "0.15624280039721947\n",
      "0.7694769116186693\n"
     ]
    },
    {
     "data": {
      "text/plain": [
       "Text(0.5, 0, 'Sentiment')"
      ]
     },
     "execution_count": 99,
     "metadata": {},
     "output_type": "execute_result"
    },
    {
     "data": {
      "image/png": "[encoded data removed]",
      "text/plain": [
       "<Figure size 432x288 with 1 Axes>"
      ]
     },
     "metadata": {
      "needs_background": "light"
     },
     "output_type": "display_data"
    }
   ],
   "source": [
    "print(music_data.sentiment.map(lambda dic : dic['neg']).mean())\n",
    "print(music_data.sentiment.map(lambda dic : dic['pos']).mean())\n",
    "print(music_data.sentiment.map(lambda dic : dic['neu']).mean())\n",
    "music_data.sentiment.map(lambda dic : dic['compound']).plot(kind='hist')\n",
    "plt.title('Compound histogram')\n",
    "plt.xlabel('Sentiment')"
   ]
  },
  {
   "cell_type": "code",
   "execution_count": 4,
   "id": "recreational-gravity",
   "metadata": {},
   "outputs": [
    {
     "data": {
      "text/plain": [
       "4028"
      ]
     },
     "execution_count": 4,
     "metadata": {},
     "output_type": "execute_result"
    }
   ],
   "source": [
    "len(music_data)"
   ]
  },
  {
   "cell_type": "code",
   "execution_count": 82,
   "id": "complete-contents",
   "metadata": {},
   "outputs": [
    {
     "data": {
      "text/html": [
       "<div>\n",
       "<style scoped>\n",
       "    .dataframe tbody tr th:only-of-type {\n",
       "        vertical-align: middle;\n",
       "    }\n",
       "\n",
       "    .dataframe tbody tr th {\n",
       "        vertical-align: top;\n",
       "    }\n",
       "\n",
       "    .dataframe thead th {\n",
       "        text-align: right;\n",
       "    }\n",
       "</style>\n",
       "<table border=\"1\" class=\"dataframe\">\n",
       "  <thead>\n",
       "    <tr style=\"text-align: right;\">\n",
       "      <th></th>\n",
       "      <th>lyrics</th>\n",
       "    </tr>\n",
       "  </thead>\n",
       "  <tbody>\n",
       "    <tr>\n",
       "      <th>count</th>\n",
       "      <td>66.000000</td>\n",
       "    </tr>\n",
       "    <tr>\n",
       "      <th>mean</th>\n",
       "      <td>61.030303</td>\n",
       "    </tr>\n",
       "    <tr>\n",
       "      <th>std</th>\n",
       "      <td>20.331082</td>\n",
       "    </tr>\n",
       "    <tr>\n",
       "      <th>min</th>\n",
       "      <td>6.000000</td>\n",
       "    </tr>\n",
       "    <tr>\n",
       "      <th>25%</th>\n",
       "      <td>54.250000</td>\n",
       "    </tr>\n",
       "    <tr>\n",
       "      <th>50%</th>\n",
       "      <td>68.000000</td>\n",
       "    </tr>\n",
       "    <tr>\n",
       "      <th>75%</th>\n",
       "      <td>76.000000</td>\n",
       "    </tr>\n",
       "    <tr>\n",
       "      <th>max</th>\n",
       "      <td>82.000000</td>\n",
       "    </tr>\n",
       "  </tbody>\n",
       "</table>\n",
       "</div>"
      ],
      "text/plain": [
       "          lyrics\n",
       "count  66.000000\n",
       "mean   61.030303\n",
       "std    20.331082\n",
       "min     6.000000\n",
       "25%    54.250000\n",
       "50%    68.000000\n",
       "75%    76.000000\n",
       "max    82.000000"
      ]
     },
     "execution_count": 82,
     "metadata": {},
     "output_type": "execute_result"
    }
   ],
   "source": [
    "music_data.groupby('year')[['lyrics']].count().describe()"
   ]
  },
  {
   "cell_type": "code",
   "execution_count": 5,
   "id": "elect-maple",
   "metadata": {},
   "outputs": [
    {
     "data": {
      "image/png": "[encoded data removed]",
      "text/plain": [
       "<Figure size 864x864 with 1 Axes>"
      ]
     },
     "metadata": {
      "needs_background": "light"
     },
     "output_type": "display_data"
    }
   ],
   "source": [
    "music_data.groupby('year')[['lyrics']].count().plot(kind = 'bar', figsize = (12,12), title='Songs per year')\n",
    "plt.ylabel('count')\n",
    "plt.xlabel('year')\n",
    "plt.show()"
   ]
  },
  {
   "cell_type": "code",
   "execution_count": 7,
   "id": "governing-allocation",
   "metadata": {},
   "outputs": [
    {
     "name": "stdout",
     "output_type": "stream",
     "text": [
      "There are 1308 artists.\n"
     ]
    }
   ],
   "source": [
    "print(f\"There are {len(music_data['artist'].drop_duplicates())} artists.\")"
   ]
  },
  {
   "cell_type": "code",
   "execution_count": 8,
   "id": "floral-winning",
   "metadata": {},
   "outputs": [
    {
     "data": {
      "image/png": "[encoded data removed]",
      "text/plain": [
       "<Figure size 432x288 with 1 Axes>"
      ]
     },
     "metadata": {
      "needs_background": "light"
     },
     "output_type": "display_data"
    }
   ],
   "source": [
    "music_data.groupby('artist')[['lyrics']].count().boxplot()\n",
    "plt.title('Number of songs per artist')\n",
    "plt.ylabel('count')\n",
    "#plt.yscale('log')\n",
    "plt.show()"
   ]
  },
  {
   "cell_type": "code",
   "execution_count": 158,
   "id": "subsequent-paris",
   "metadata": {},
   "outputs": [],
   "source": [
    "small_set_colors = set(['white', 'black', 'yellow', 'green', 'purple', 'brown', 'pink',\n",
    "                  'red', 'blue', 'maroon', 'salmon', 'coral', 'orange', 'gold',\n",
    "                  'silver', 'lime', 'turquoise', 'cyan', 'navy', 'indigo', 'magenta',\n",
    "                  'beige', 'tan', 'grey'])"
   ]
  },
  {
   "cell_type": "code",
   "execution_count": 100,
   "id": "blank-ecuador",
   "metadata": {},
   "outputs": [
    {
     "data": {
      "text/plain": [
       "24"
      ]
     },
     "execution_count": 100,
     "metadata": {},
     "output_type": "execute_result"
    }
   ],
   "source": [
    "len(small_set_colors)"
   ]
  },
  {
   "cell_type": "code",
   "execution_count": 74,
   "id": "governing-minority",
   "metadata": {},
   "outputs": [],
   "source": [
    "with open(\"colors.txt\", \"r\") as file_colors:\n",
    "    set_colors = set([line.strip() for line in file_colors])"
   ]
  },
  {
   "cell_type": "code",
   "execution_count": 101,
   "id": "nasty-technology",
   "metadata": {},
   "outputs": [
    {
     "data": {
      "text/plain": [
       "229"
      ]
     },
     "execution_count": 101,
     "metadata": {},
     "output_type": "execute_result"
    }
   ],
   "source": [
    "len(set_colors)"
   ]
  },
  {
   "cell_type": "code",
   "execution_count": 159,
   "id": "sublime-halloween",
   "metadata": {},
   "outputs": [],
   "source": [
    "music_data['intersection_colors_title'] = music_data['title'].str.lower().map(lambda title: set(title.translate(str.maketrans('', '', string.punctuation)).split()).intersection(small_set_colors))\n",
    "music_data['intersection_colors_lyrics'] = music_data['lyrics'].str.lower().map(lambda lyrics: set(lyrics.translate(str.maketrans('', '', string.punctuation)).split()).intersection(small_set_colors))"
   ]
  },
  {
   "cell_type": "code",
   "execution_count": 160,
   "id": "opened-exception",
   "metadata": {},
   "outputs": [
    {
     "data": {
      "text/plain": [
       "780"
      ]
     },
     "execution_count": 160,
     "metadata": {},
     "output_type": "execute_result"
    }
   ],
   "source": [
    "len(music_data[music_data['intersection_colors_lyrics'] != set()])"
   ]
  },
  {
   "cell_type": "code",
   "execution_count": 161,
   "id": "devoted-panic",
   "metadata": {},
   "outputs": [],
   "source": [
    "colored_songs = music_data[music_data['intersection_colors_lyrics'] != set()]"
   ]
  },
  {
   "cell_type": "code",
   "execution_count": 162,
   "id": "demanding-rehabilitation",
   "metadata": {},
   "outputs": [],
   "source": [
    "color_counts = pd.DataFrame([color for colors_list in list(colored_songs['intersection_colors_lyrics'].map(lambda set_ : list(set_))) for color in colors_list], columns=['color']).reset_index().groupby('color').count()"
   ]
  },
  {
   "cell_type": "code",
   "execution_count": 164,
   "id": "forced-civilization",
   "metadata": {},
   "outputs": [],
   "source": [
    "color_counts = color_counts.rename(columns={'index' : 'count'})"
   ]
  },
  {
   "cell_type": "code",
   "execution_count": 171,
   "id": "sixth-raising",
   "metadata": {},
   "outputs": [
    {
     "data": {
      "text/plain": [
       "<AxesSubplot:xlabel='color'>"
      ]
     },
     "execution_count": 171,
     "metadata": {},
     "output_type": "execute_result"
    },
    {
     "data": {
      "image/png": "[encoded data removed]",
      "text/plain": [
       "<Figure size 432x288 with 1 Axes>"
      ]
     },
     "metadata": {
      "needs_background": "light"
     },
     "output_type": "display_data"
    }
   ],
   "source": [
    "color_counts.plot(kind='bar')"
   ]
  },
  {
   "cell_type": "code",
   "execution_count": null,
   "id": "rubber-movement",
   "metadata": {},
   "outputs": [],
   "source": []
  }
 ],
 "metadata": {
  "kernelspec": {
   "display_name": "Python [conda env:ada] *",
   "language": "python",
   "name": "conda-env-ada-py"
  },
  "language_info": {
   "codemirror_mode": {
    "name": "ipython",
    "version": 3
   },
   "file_extension": ".py",
   "mimetype": "text/x-python",
   "name": "python",
   "nbconvert_exporter": "python",
   "pygments_lexer": "ipython3",
   "version": "3.8.5"
  }
 },
 "nbformat": 4,
 "nbformat_minor": 5
}
